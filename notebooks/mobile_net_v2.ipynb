{
 "cells": [
  {
   "cell_type": "markdown",
   "metadata": {},
   "source": [
    "# MobileNet V2\n",
    "\n",
    "In this notebook, the classification task is trained with a deep neural network called MobileNet V2 (https://arxiv.org/abs/1801.04381v4). I have chosen this network for the following reasons:\n",
    "\n",
    "- It is lightweight and does not have a huge number of parameters\n",
    "- Others in the Kaggle community have used it to train for this task.\n",
    "- There is a pretrained model available in pytorch"
   ]
  },
  {
   "cell_type": "code",
   "execution_count": 1,
   "metadata": {},
   "outputs": [],
   "source": [
    "from PIL import Image\n",
    "from torchvision import transforms, models\n",
    "from torch import nn, optim\n",
    "from torch.utils.data import DataLoader, Dataset, random_split\n",
    "import os\n",
    "from pathlib import Path\n",
    "import torch\n",
    "import matplotlib.pyplot as plt\n",
    "\n",
    "data_dir = \"../data/train\"\n",
    "labels = ['fresh','blackspot','canker','grenning']"
   ]
  },
  {
   "cell_type": "markdown",
   "metadata": {},
   "source": [
    "## Transform dataset\n",
    "\n",
    "Before the input data is applied to the network, it needs to be preprocessed. Therefore, the pytorch transform function is used with the following operations:\n",
    "\n",
    "- As discussed in the data_analysis notebook, the images need to be resized to all have the same resolution. Based on the scatter plot, a pixel size of 256 x 256 is used.\n",
    "- On the following page (https://pytorch.org/hub/pytorch_vision_mobilenet_v2/), it is suggested to normalize the images. This is required in order to start with a pretrained model.\n",
    "- To prevent overfitting across epochs, the data is randomly flipped and rotated.\n",
    "- Moreover, GaussianBlur and ColorJitter is applied to prevent overfitting. However, these two operations should be applied with caution -> Not in use in final version"
   ]
  },
  {
   "cell_type": "code",
   "execution_count": 2,
   "metadata": {},
   "outputs": [],
   "source": [
    "transform = transforms.Compose([\n",
    "    transforms.ToTensor(),  # Convert images to PyTorch tensors\n",
    "    transforms.Resize((256, 256)),  # Resize images\n",
    "    transforms.RandomHorizontalFlip(),  # Randomly flip images horizontally\n",
    "    transforms.RandomVerticalFlip(),  # Randomly flip images vertically\n",
    "    transforms.RandomRotation(360),  # Randomly rotate images by up to 360 degrees\n",
    "    #transforms.GaussianBlur(kernel_size=(5,9), sigma=(0.1,5)),\n",
    "    #transforms.ColorJitter(brightness=.5, hue=.3),\n",
    "    transforms.Normalize([0.485, 0.456, 0.406], [0.229, 0.224, 0.225]),  # Normalize images\n",
    "])"
   ]
  },
  {
   "cell_type": "markdown",
   "metadata": {},
   "source": [
    "## Load dataset\n",
    "\n",
    "We load that dataset into a class called OrangeDiseaseDataset that contains all images and corresponding labels. "
   ]
  },
  {
   "cell_type": "code",
   "execution_count": 3,
   "metadata": {},
   "outputs": [
    {
     "name": "stdout",
     "output_type": "stream",
     "text": [
      "991 images are loaded\n"
     ]
    }
   ],
   "source": [
    "class OrangeDiseaseDataset(Dataset):\n",
    "    def __init__(self, data_dir, labels, transform=None):\n",
    "        self.data_dir = data_dir\n",
    "        self.labels = labels\n",
    "        self.transform = transform\n",
    "        self.data = []\n",
    "        self._load_images()\n",
    "\n",
    "    def _load_images(self):\n",
    "        for label in labels:\n",
    "            label_dir = os.path.join(self.data_dir,label)\n",
    "            [self.data.append((img_path, label)) for ext in ['*.jpg','*.png'] for img_path in Path(label_dir).rglob(ext)]\n",
    "\n",
    "    def __len__(self):\n",
    "        return len(self.data)\n",
    "\n",
    "    def __getitem__(self, idx):\n",
    "        img_path, label = self.data[idx]\n",
    "        image = Image.open(img_path).convert('RGB')\n",
    "        if self.transform:\n",
    "            image = self.transform(image)\n",
    "        label_idx = self.labels.index(label)\n",
    "        return image, label_idx\n",
    "\n",
    "# Create dataset\n",
    "dataset = OrangeDiseaseDataset(data_dir, labels, transform=transform)\n",
    "\n",
    "print(f\"{len(dataset)} images are loaded\")"
   ]
  },
  {
   "cell_type": "markdown",
   "metadata": {},
   "source": [
    "## Split dataset into training and validation\n",
    "\n",
    "We use an 80/20 split to seperate the data into training and validation. \n",
    "\n",
    "The batch size is chosen to be 64, which is a common choice for small to medium size models and datasets. Compared to a batch size of 32, less noise behaviour of training and validation loss was observed."
   ]
  },
  {
   "cell_type": "code",
   "execution_count": 4,
   "metadata": {},
   "outputs": [],
   "source": [
    "train_size = int(0.8 * len(dataset))\n",
    "validation_size = len(dataset) - train_size\n",
    "train_dataset, validation_dataset = random_split(dataset, [train_size, validation_size])\n",
    "\n",
    "# Create data loaders\n",
    "batch_size = 64\n",
    "train_loader = DataLoader(train_dataset, batch_size=batch_size, shuffle=True)\n",
    "test_loader = DataLoader(validation_dataset, batch_size=batch_size, shuffle=False)"
   ]
  },
  {
   "cell_type": "markdown",
   "metadata": {},
   "source": [
    "## Load Model\n",
    "\n",
    "The MobileNet V2 model is loaded with pretrained labels. This can massively reduce time to convergence. Only the final fully connected layer of the network is adapted to fit the number of outputs/categories. \n",
    "\n",
    "Finally the model is loaded into the GPU if available."
   ]
  },
  {
   "cell_type": "code",
   "execution_count": 5,
   "metadata": {},
   "outputs": [
    {
     "name": "stderr",
     "output_type": "stream",
     "text": [
      "/usr/local/lib/python3.11/site-packages/torchvision/models/_utils.py:208: UserWarning: The parameter 'pretrained' is deprecated since 0.13 and may be removed in the future, please use 'weights' instead.\n",
      "  warnings.warn(\n",
      "/usr/local/lib/python3.11/site-packages/torchvision/models/_utils.py:223: UserWarning: Arguments other than a weight enum or `None` for 'weights' are deprecated since 0.13 and may be removed in the future. The current behavior is equivalent to passing `weights=MobileNet_V2_Weights.IMAGENET1K_V1`. You can also use `weights=MobileNet_V2_Weights.DEFAULT` to get the most up-to-date weights.\n",
      "  warnings.warn(msg)\n"
     ]
    },
    {
     "name": "stdout",
     "output_type": "stream",
     "text": [
      "cuda:0\n"
     ]
    }
   ],
   "source": [
    "# Load MobileNet v2 model\n",
    "model = models.mobilenet_v2(pretrained=True)\n",
    "\n",
    "# Modify the final layer to match the number of classes\n",
    "model.classifier[1] = nn.Linear(model.classifier[1].in_features, len(labels))\n",
    "\n",
    "# Move model to GPU if available\n",
    "device = torch.device(\"cuda:0\" if torch.cuda.is_available() else \"cpu\")\n",
    "print(device)\n",
    "model = model.to(device)"
   ]
  },
  {
   "cell_type": "markdown",
   "metadata": {},
   "source": [
    "# Set up optimizer\n",
    "\n",
    "Loss function: Cross entropy loss is used as it is the most common choise for classification taks. \n",
    "\n",
    "Optimizer: The Adam (Adaptive Moment Estimation) is used with default parameter to compute the learning rate. It is a popular choice as it often works well out of the box and combines advantages of both momentum and adaptive learning rates. "
   ]
  },
  {
   "cell_type": "code",
   "execution_count": 6,
   "metadata": {},
   "outputs": [],
   "source": [
    "criterion = nn.CrossEntropyLoss()\n",
    "optimizer = optim.Adam(model.parameters())"
   ]
  },
  {
   "cell_type": "markdown",
   "metadata": {},
   "source": [
    "## Train the model\n",
    "\n",
    "In this section the model is trained on the dataset. \n",
    "\n",
    "For each epoch the model is trained, the train and validation losses are calculated and the resulting model is saved to a file. "
   ]
  },
  {
   "cell_type": "code",
   "execution_count": 7,
   "metadata": {},
   "outputs": [
    {
     "name": "stdout",
     "output_type": "stream",
     "text": [
      "Epoch 1/10.. Train loss: 0.230.. Validation loss: 0.166\n",
      "Epoch 2/10.. Train loss: 0.085.. Validation loss: 0.082\n"
     ]
    }
   ],
   "source": [
    "# Training the model\n",
    "num_epochs = 10\n",
    "train_losses = []\n",
    "validation_losses = []\n",
    "for epoch in range(num_epochs):\n",
    "    model.train()\n",
    "    running_loss = 0.0\n",
    "    for inputs, labels in train_loader:\n",
    "        inputs, labels = inputs.to(device), labels.to(device)\n",
    "        \n",
    "        optimizer.zero_grad()\n",
    "        \n",
    "        outputs = model(inputs)\n",
    "        loss = criterion(outputs, labels)\n",
    "        loss.backward()\n",
    "        optimizer.step()\n",
    "        \n",
    "        running_loss += loss.item() * inputs.size(0)\n",
    "    \n",
    "    train_loss = running_loss / len(train_loader.dataset)\n",
    "    train_losses.append(train_loss)\n",
    "    \n",
    "    model.eval()\n",
    "    running_loss = 0.0\n",
    "    with torch.no_grad():\n",
    "        for inputs, labels in test_loader:\n",
    "            inputs, labels = inputs.to(device), labels.to(device)\n",
    "            \n",
    "            outputs = model(inputs)\n",
    "            loss = criterion(outputs, labels)\n",
    "            \n",
    "            running_loss += loss.item() * inputs.size(0)\n",
    "    \n",
    "    validation_loss = running_loss / len(test_loader.dataset)\n",
    "    validation_losses.append(validation_loss)\n",
    "    \n",
    "    print(f\"Epoch {epoch+1}/{num_epochs}.. \"\n",
    "          f\"Train loss: {train_loss:.3f}.. \"\n",
    "          f\"Validation loss: {validation_loss:.3f}\")\n",
    "    \n",
    "    # Save the model\n",
    "    torch.save(model.state_dict(), f'../models/mobilenet_v2_epoch_{epoch}.pth')"
   ]
  },
  {
   "cell_type": "markdown",
   "metadata": {},
   "source": [
    "## Visualize Training and Validation loss\n",
    "\n",
    "The training and validation losses are plotted over time."
   ]
  },
  {
   "cell_type": "code",
   "execution_count": null,
   "metadata": {},
   "outputs": [
    {
     "data": {
      "image/png": "[encoded data removed]",
      "text/plain": [
       "<Figure size 640x480 with 1 Axes>"
      ]
     },
     "metadata": {},
     "output_type": "display_data"
    }
   ],
   "source": [
    "# Plot training and validation loss\n",
    "plt.plot(train_losses, label='Training loss')\n",
    "plt.plot(validation_losses, label='Validation loss')\n",
    "plt.legend(frameon=False)\n",
    "plt.show()\n"
   ]
  },
  {
   "cell_type": "markdown",
   "metadata": {},
   "source": [
    "## Train final model\n",
    "\n",
    "From the train and validation loss example, we decided to use 3 epochs of training. "
   ]
  },
  {
   "cell_type": "code",
   "execution_count": null,
   "metadata": {},
   "outputs": [
    {
     "ename": "NameError",
     "evalue": "name 'DataLoader' is not defined",
     "output_type": "error",
     "traceback": [
      "\u001b[0;31m---------------------------------------------------------------------------\u001b[0m",
      "\u001b[0;31mNameError\u001b[0m                                 Traceback (most recent call last)",
      "Cell \u001b[0;32mIn[1], line 1\u001b[0m\n\u001b[0;32m----> 1\u001b[0m train_loader \u001b[38;5;241m=\u001b[39m \u001b[43mDataLoader\u001b[49m(dataset, batch_size\u001b[38;5;241m=\u001b[39mbatch_size, shuffle\u001b[38;5;241m=\u001b[39m\u001b[38;5;28;01mTrue\u001b[39;00m)\n\u001b[1;32m      3\u001b[0m \u001b[38;5;66;03m# Training the model\u001b[39;00m\n\u001b[1;32m      4\u001b[0m num_epochs \u001b[38;5;241m=\u001b[39m \u001b[38;5;241m5\u001b[39m\n",
      "\u001b[0;31mNameError\u001b[0m: name 'DataLoader' is not defined"
     ]
    }
   ],
   "source": [
    "train_loader = DataLoader(dataset, batch_size=batch_size, shuffle=True)\n",
    "\n",
    "# Training the model\n",
    "num_epochs = 3\n",
    "train_losses = []\n",
    "for epoch in range(num_epochs):\n",
    "    model.train()\n",
    "    running_loss = 0.0\n",
    "    for inputs, labels in train_loader:\n",
    "        inputs, labels = inputs.to(device), labels.to(device)\n",
    "        \n",
    "        optimizer.zero_grad()\n",
    "        \n",
    "        outputs = model(inputs)\n",
    "        loss = criterion(outputs, labels)\n",
    "        loss.backward()\n",
    "        optimizer.step()\n",
    "        \n",
    "        running_loss += loss.item() * inputs.size(0)\n",
    "    \n",
    "    train_loss = running_loss / len(train_loader.dataset)\n",
    "    train_losses.append(train_loss)\n",
    "    \n",
    "    model.eval()\n",
    "\n",
    "    \n",
    "    print(f\"Epoch {epoch+1}/{num_epochs}.. \"\n",
    "          f\"Train loss: {train_loss:.3f}.. \")\n",
    "    \n",
    "# Save the model\n",
    "torch.save(model.state_dict(), f'../models/mobilenet_v2_final.pth')"
   ]
  }
 ],
 "metadata": {
  "kernelspec": {
   "display_name": "Python 3",
   "language": "python",
   "name": "python3"
  },
  "language_info": {
   "codemirror_mode": {
    "name": "ipython",
    "version": 3
   },
   "file_extension": ".py",
   "mimetype": "text/x-python",
   "name": "python",
   "nbconvert_exporter": "python",
   "pygments_lexer": "ipython3",
   "version": "3.11.9"
  }
 },
 "nbformat": 4,
 "nbformat_minor": 2
}
